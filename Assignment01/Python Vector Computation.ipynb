{
 "cells": [
  {
   "cell_type": "markdown",
   "id": "115b8b96",
   "metadata": {},
   "source": [
    "Show that (2, 4), (3, 0), (5, 3) and (4, 7) arethe vertices of a Parallelogram."
   ]
  },
  {
   "cell_type": "code",
   "execution_count": 32,
   "id": "0014b988",
   "metadata": {},
   "outputs": [],
   "source": [
    "import numpy as np"
   ]
  },
  {
   "cell_type": "code",
   "execution_count": 33,
   "id": "5c735f59",
   "metadata": {},
   "outputs": [
    {
     "name": "stdout",
     "output_type": "stream",
     "text": [
      "A =[[2]\n",
      " [4]]\n",
      " B =[[3]\n",
      " [0]]\n",
      " C =[[5]\n",
      " [3]]\n",
      " D =[[4]\n",
      " [7]]\n"
     ]
    }
   ],
   "source": [
    "vecA = np.array([[2],[4]])\n",
    "vecB = np.array([[3],[0]])\n",
    "vecC = np.array([[5],[3]])\n",
    "vecD = np.array([[4],[7]])\n",
    "print(f'A ={vecA}\\n B ={vecB}\\n C ={vecC}\\n D ={vecD}')"
   ]
  },
  {
   "cell_type": "markdown",
   "id": "f9b730dd",
   "metadata": {},
   "source": [
    "ABCDcan be a ‖gm if its opposite sides are parallel <br> i.e A−B=k1(D−C) andA−D=k2(B−C)"
   ]
  },
  {
   "cell_type": "code",
   "execution_count": 34,
   "id": "74f2f78a",
   "metadata": {
    "scrolled": true
   },
   "outputs": [
    {
     "name": "stdout",
     "output_type": "stream",
     "text": [
      "AB = [[-1]\n",
      " [ 4]]\n",
      "DC = [[-1]\n",
      " [ 4]]\n"
     ]
    }
   ],
   "source": [
    "vecAB = vecA - vecB\n",
    "vecDC = vecD - vecC\n",
    "print(f'AB = {vecAB}')\n",
    "print(f'DC = {vecDC}')"
   ]
  },
  {
   "cell_type": "code",
   "execution_count": 35,
   "id": "07487b61",
   "metadata": {},
   "outputs": [
    {
     "name": "stdout",
     "output_type": "stream",
     "text": [
      "AC = [[-2]\n",
      " [-3]]\n",
      "BC = [[-2]\n",
      " [-3]]\n"
     ]
    }
   ],
   "source": [
    "vecAD = vecA - vecD\n",
    "vecBC = vecB - vecC\n",
    "print(f'AC = {vecAD}')\n",
    "print(f'BC = {vecBC}')"
   ]
  },
  {
   "cell_type": "code",
   "execution_count": 36,
   "id": "e3265291",
   "metadata": {},
   "outputs": [
    {
     "name": "stdout",
     "output_type": "stream",
     "text": [
      "Here Opposite sides AB‖CD and AD‖BC \n",
      "  ∴  ABCD is a Parallelogram\n"
     ]
    }
   ],
   "source": [
    "if np.all((vecAB == vecDC) & (vecAD == vecBC)) :\n",
    "    print('Here Opposite sides AB‖CD and AD‖BC \\n  ∴  ABCD is a Parallelogram')\n",
    "else:\n",
    "    print('Here Opposite sides  are not parallel  \\n  ∴  ABCD is not  a Parallelogram')"
   ]
  },
  {
   "cell_type": "markdown",
   "id": "62a892bd",
   "metadata": {},
   "source": [
    "Here Opposite sides AB‖CD and AD‖BC  ∴  ABCDis a ‖gm as the opposite sides are parallel."
   ]
  },
  {
   "cell_type": "code",
   "execution_count": null,
   "id": "4bf69523",
   "metadata": {},
   "outputs": [],
   "source": []
  }
 ],
 "metadata": {
  "kernelspec": {
   "display_name": "Python 3",
   "language": "python",
   "name": "python3"
  },
  "language_info": {
   "codemirror_mode": {
    "name": "ipython",
    "version": 3
   },
   "file_extension": ".py",
   "mimetype": "text/x-python",
   "name": "python",
   "nbconvert_exporter": "python",
   "pygments_lexer": "ipython3",
   "version": "3.8.8"
  }
 },
 "nbformat": 4,
 "nbformat_minor": 5
}
