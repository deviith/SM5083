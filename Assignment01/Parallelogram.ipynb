{
 "cells": [
  {
   "cell_type": "code",
   "execution_count": 10,
   "id": "d05dc220",
   "metadata": {},
   "outputs": [
    {
     "data": {
      "image/png": "[encoded data removed]",
      "text/plain": [
       "<Figure size 432x288 with 1 Axes>"
      ]
     },
     "metadata": {
      "needs_background": "light"
     },
     "output_type": "display_data"
    }
   ],
   "source": [
    "import matplotlib.pyplot as plt\n",
    "\n",
    "# AB\n",
    "x1 = [2,3]\n",
    "y1 = [4,0]\n",
    "# plotting  \n",
    "plt.plot(x1, y1,color='blue', label = 'AB',linewidth=2)\n",
    "# BC\n",
    "x2 = [3,5]\n",
    "y2 = [0,3]\n",
    "# plotting  \n",
    "plt.plot(x2, y2,color='red',label = 'BC' ,linewidth=2)\n",
    "# CD\n",
    "x3 = [5,4]\n",
    "y3 = [3,7]\n",
    "# plotting  \n",
    "plt.plot(x3, y3,color='blue',label = 'CD', linewidth=2)\n",
    "# AD\n",
    "x4 = [2,4]\n",
    "y4 = [4,7]\n",
    "# plotting \n",
    "plt.plot(x4, y4,color='red',label = 'AD', linewidth=2)\n",
    "\n",
    "plt.legend()\n",
    "plt.annotate(\"A\", (2,4))\n",
    "plt.annotate(\"B\", (3,0))\n",
    "plt.annotate(\"C\", (5,3))\n",
    "plt.annotate(\"D\", (4,7))\n",
    "\n",
    "\n",
    "plt.ylabel('$y-axis$')\n",
    "plt.xlabel('$x-axis$')\n",
    "plt.grid() \n",
    "plt.axis('equal')\n",
    "plt.savefig('parallelogram.png', dpi = 200)\n",
    "\n",
    "plt.show()\n"
   ]
  },
  {
   "cell_type": "code",
   "execution_count": null,
   "id": "46c67219",
   "metadata": {},
   "outputs": [],
   "source": []
  }
 ],
 "metadata": {
  "kernelspec": {
   "display_name": "Python 3",
   "language": "python",
   "name": "python3"
  },
  "language_info": {
   "codemirror_mode": {
    "name": "ipython",
    "version": 3
   },
   "file_extension": ".py",
   "mimetype": "text/x-python",
   "name": "python",
   "nbconvert_exporter": "python",
   "pygments_lexer": "ipython3",
   "version": "3.8.8"
  }
 },
 "nbformat": 4,
 "nbformat_minor": 5
}
